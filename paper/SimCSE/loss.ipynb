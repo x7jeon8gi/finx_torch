{
 "cells": [
  {
   "cell_type": "code",
   "execution_count": 1,
   "metadata": {},
   "outputs": [],
   "source": [
    "# For cloning codes of Contrastive Learning\n",
    "# It will be linked with finx_torch"
   ]
  },
  {
   "cell_type": "code",
   "execution_count": 3,
   "metadata": {},
   "outputs": [],
   "source": [
    "import torch\n",
    "import logging # logging을 안쓰는 model이 없다. 사용법 꼭 숙지!\n",
    "# 간단히 말하면, 오류 발생시 출력해주는 놈!\n",
    "import numpy as np\n",
    "import torch.nn as nn\n",
    "# from model.utils import Metric # utils.py 구현해야함.\n",
    "from scipy.stats import pearsonr,spearmanr\n",
    "from sklearn.metrics.pairwise import paired_cosine_distances,paired_euclidean_distances,paired_manhattan_distances\n",
    "# 코사인 거리, 유클리디안 거리, 맨해튼 거리 -> 이거 어디서 쓰는 거였지...?"
   ]
  },
  {
   "cell_type": "code",
   "execution_count": null,
   "metadata": {},
   "outputs": [],
   "source": [
    "logger =  logging.getLogger(__name__)\n",
    "# 오류의 이름을 설정하고 \n",
    "# 이후에 오류의 레벨을 결정한다.\n",
    "# https://m.blog.naver.com/qvinci/221919758080"
   ]
  }
 ],
 "metadata": {
  "interpreter": {
   "hash": "57bc2b6ce032b5f0e93daa91901b7ea38a856826ef43aa9e95b6d3999f5310df"
  },
  "kernelspec": {
   "display_name": "Python 3.8.3 ('base')",
   "language": "python",
   "name": "python3"
  },
  "language_info": {
   "codemirror_mode": {
    "name": "ipython",
    "version": 3
   },
   "file_extension": ".py",
   "mimetype": "text/x-python",
   "name": "python",
   "nbconvert_exporter": "python",
   "pygments_lexer": "ipython3",
   "version": "3.8.3"
  },
  "orig_nbformat": 4
 },
 "nbformat": 4,
 "nbformat_minor": 2
}
